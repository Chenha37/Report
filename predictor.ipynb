{
 "cells": [
  {
   "cell_type": "markdown",
   "metadata": {},
   "source": [
    "### tall"
   ]
  },
  {
   "cell_type": "code",
   "execution_count": 67,
   "metadata": {
    "slideshow": {
     "slide_type": "skip"
    }
   },
   "outputs": [],
   "source": [
    "import numpy as np\n",
    "import pandas as pd\n",
    "import matplotlib.pyplot as plt\n",
    "%matplotlib notebook\n",
    "from sklearn.ensemble import RandomForestRegressor\n",
    "from sklearn.metrics import accuracy_score\n",
    "from sklearn.linear_model import LogisticRegression\n",
    "from sklearn.tree import DecisionTreeRegressor\n",
    "from sklearn.neighbors import KNeighborsRegressor \n",
    "from sklearn.linear_model import LinearRegression\n",
    "from sklearn.linear_model import LogisticRegression\n",
    "from sklearn.linear_model import SGDRegressor\n",
    "from sklearn.svm import SVC\n",
    "from sklearn.model_selection import GridSearchCV\n",
    "import warnings\n",
    "#import xgboost as xgb\n",
    "import seaborn as sns\n",
    "from sklearn import metrics\n",
    "warnings.filterwarnings(\"ignore\", category=DeprecationWarning) "
   ]
  },
  {
   "cell_type": "code",
   "execution_count": 68,
   "metadata": {},
   "outputs": [],
   "source": [
    "dataset = pd.read_csv('DBClassifiedFinal.csv')\n",
    "dataset = dataset.drop(columns=['Unnamed: 0'])"
   ]
  },
  {
   "cell_type": "code",
   "execution_count": 69,
   "metadata": {},
   "outputs": [
    {
     "name": "stdout",
     "output_type": "stream",
     "text": [
      "Drop all invalid rows: 136\n"
     ]
    }
   ],
   "source": [
    "invalid_idx = []\n",
    "for ii in range(len(dataset)):\n",
    "    x = dataset.iloc[ii].cast\n",
    "    if (len(x) > 100) or x == '[]':\n",
    "        invalid_idx.append(ii)\n",
    "        \n",
    "print(\"Drop all invalid rows:\", len(invalid_idx))"
   ]
  },
  {
   "cell_type": "code",
   "execution_count": 70,
   "metadata": {},
   "outputs": [],
   "source": [
    "dataset = dataset.drop(invalid_idx)\n",
    "dataset = dataset.drop_duplicates()"
   ]
  },
  {
   "cell_type": "code",
   "execution_count": 71,
   "metadata": {},
   "outputs": [
    {
     "data": {
      "text/html": [
       "<div>\n",
       "<style scoped>\n",
       "    .dataframe tbody tr th:only-of-type {\n",
       "        vertical-align: middle;\n",
       "    }\n",
       "\n",
       "    .dataframe tbody tr th {\n",
       "        vertical-align: top;\n",
       "    }\n",
       "\n",
       "    .dataframe thead th {\n",
       "        text-align: right;\n",
       "    }\n",
       "</style>\n",
       "<table border=\"1\" class=\"dataframe\">\n",
       "  <thead>\n",
       "    <tr style=\"text-align: right;\">\n",
       "      <th></th>\n",
       "      <th>title</th>\n",
       "      <th>movie_id</th>\n",
       "      <th>cast</th>\n",
       "      <th>budget</th>\n",
       "      <th>revenue</th>\n",
       "      <th>producers</th>\n",
       "      <th>writers</th>\n",
       "      <th>directors</th>\n",
       "    </tr>\n",
       "  </thead>\n",
       "  <tbody>\n",
       "    <tr>\n",
       "      <td>0</td>\n",
       "      <td>Avatar</td>\n",
       "      <td>19995</td>\n",
       "      <td>2.922917223654528</td>\n",
       "      <td>2.3700</td>\n",
       "      <td>27.879651</td>\n",
       "      <td>29.613839</td>\n",
       "      <td>12.897685</td>\n",
       "      <td>6.448842</td>\n",
       "    </tr>\n",
       "    <tr>\n",
       "      <td>1</td>\n",
       "      <td>Pirates of the Caribbean: At World's End</td>\n",
       "      <td>285</td>\n",
       "      <td>1.2913461411252305</td>\n",
       "      <td>3.0000</td>\n",
       "      <td>9.610000</td>\n",
       "      <td>18.890153</td>\n",
       "      <td>10.035811</td>\n",
       "      <td>4.538591</td>\n",
       "    </tr>\n",
       "    <tr>\n",
       "      <td>2</td>\n",
       "      <td>Spectre</td>\n",
       "      <td>206647</td>\n",
       "      <td>2.7319103842129633</td>\n",
       "      <td>2.4500</td>\n",
       "      <td>8.806746</td>\n",
       "      <td>8.528419</td>\n",
       "      <td>31.454472</td>\n",
       "      <td>3.099638</td>\n",
       "    </tr>\n",
       "    <tr>\n",
       "      <td>3</td>\n",
       "      <td>The Dark Knight Rises</td>\n",
       "      <td>49026</td>\n",
       "      <td>1.4108010609649992</td>\n",
       "      <td>2.5000</td>\n",
       "      <td>10.849391</td>\n",
       "      <td>14.449937</td>\n",
       "      <td>20.059641</td>\n",
       "      <td>5.333298</td>\n",
       "    </tr>\n",
       "    <tr>\n",
       "      <td>4</td>\n",
       "      <td>John Carter</td>\n",
       "      <td>49529</td>\n",
       "      <td>1.4981138058730157</td>\n",
       "      <td>2.6000</td>\n",
       "      <td>2.841391</td>\n",
       "      <td>13.394146</td>\n",
       "      <td>12.193621</td>\n",
       "      <td>6.308121</td>\n",
       "    </tr>\n",
       "    <tr>\n",
       "      <td>...</td>\n",
       "      <td>...</td>\n",
       "      <td>...</td>\n",
       "      <td>...</td>\n",
       "      <td>...</td>\n",
       "      <td>...</td>\n",
       "      <td>...</td>\n",
       "      <td>...</td>\n",
       "      <td>...</td>\n",
       "    </tr>\n",
       "    <tr>\n",
       "      <td>5368</td>\n",
       "      <td>El Mariachi</td>\n",
       "      <td>9367</td>\n",
       "      <td>0.384301845</td>\n",
       "      <td>0.0022</td>\n",
       "      <td>0.020409</td>\n",
       "      <td>1.370642</td>\n",
       "      <td>0.951869</td>\n",
       "      <td>0.951869</td>\n",
       "    </tr>\n",
       "    <tr>\n",
       "      <td>5369</td>\n",
       "      <td>Newlyweds</td>\n",
       "      <td>72766</td>\n",
       "      <td>1.1208146306666666</td>\n",
       "      <td>0.0900</td>\n",
       "      <td>0.033600</td>\n",
       "      <td>0.228197</td>\n",
       "      <td>0.087957</td>\n",
       "      <td>0.087957</td>\n",
       "    </tr>\n",
       "    <tr>\n",
       "      <td>5370</td>\n",
       "      <td>Signed, Sealed, Delivered</td>\n",
       "      <td>231617</td>\n",
       "      <td>0.4218125748484849</td>\n",
       "      <td>0.0010</td>\n",
       "      <td>0.001000</td>\n",
       "      <td>0.001000</td>\n",
       "      <td>2.220000</td>\n",
       "      <td>0.003009</td>\n",
       "    </tr>\n",
       "    <tr>\n",
       "      <td>5371</td>\n",
       "      <td>Shanghai Calling</td>\n",
       "      <td>126186</td>\n",
       "      <td>1.4863843466666664</td>\n",
       "      <td>0.0074</td>\n",
       "      <td>0.000100</td>\n",
       "      <td>2.980000</td>\n",
       "      <td>2.220000</td>\n",
       "      <td>0.000100</td>\n",
       "    </tr>\n",
       "    <tr>\n",
       "      <td>5372</td>\n",
       "      <td>My Date with Drew</td>\n",
       "      <td>25975</td>\n",
       "      <td>0.49726442878571425</td>\n",
       "      <td>0.0074</td>\n",
       "      <td>0.002628</td>\n",
       "      <td>2.980000</td>\n",
       "      <td>2.220000</td>\n",
       "      <td>0.054710</td>\n",
       "    </tr>\n",
       "  </tbody>\n",
       "</table>\n",
       "<p>4669 rows × 8 columns</p>\n",
       "</div>"
      ],
      "text/plain": [
       "                                         title  movie_id                 cast  \\\n",
       "0                                       Avatar     19995    2.922917223654528   \n",
       "1     Pirates of the Caribbean: At World's End       285   1.2913461411252305   \n",
       "2                                      Spectre    206647   2.7319103842129633   \n",
       "3                        The Dark Knight Rises     49026   1.4108010609649992   \n",
       "4                                  John Carter     49529   1.4981138058730157   \n",
       "...                                        ...       ...                  ...   \n",
       "5368                               El Mariachi      9367          0.384301845   \n",
       "5369                                 Newlyweds     72766   1.1208146306666666   \n",
       "5370                 Signed, Sealed, Delivered    231617   0.4218125748484849   \n",
       "5371                          Shanghai Calling    126186   1.4863843466666664   \n",
       "5372                         My Date with Drew     25975  0.49726442878571425   \n",
       "\n",
       "      budget    revenue  producers    writers  directors  \n",
       "0     2.3700  27.879651  29.613839  12.897685   6.448842  \n",
       "1     3.0000   9.610000  18.890153  10.035811   4.538591  \n",
       "2     2.4500   8.806746   8.528419  31.454472   3.099638  \n",
       "3     2.5000  10.849391  14.449937  20.059641   5.333298  \n",
       "4     2.6000   2.841391  13.394146  12.193621   6.308121  \n",
       "...      ...        ...        ...        ...        ...  \n",
       "5368  0.0022   0.020409   1.370642   0.951869   0.951869  \n",
       "5369  0.0900   0.033600   0.228197   0.087957   0.087957  \n",
       "5370  0.0010   0.001000   0.001000   2.220000   0.003009  \n",
       "5371  0.0074   0.000100   2.980000   2.220000   0.000100  \n",
       "5372  0.0074   0.002628   2.980000   2.220000   0.054710  \n",
       "\n",
       "[4669 rows x 8 columns]"
      ]
     },
     "execution_count": 71,
     "metadata": {},
     "output_type": "execute_result"
    }
   ],
   "source": [
    "dataset.to_csv('DBClassifiedFinal_Final_After_Cleaning.csv')\n",
    "dataset"
   ]
  },
  {
   "cell_type": "markdown",
   "metadata": {},
   "source": [
    "### Spilt the data into train and test set"
   ]
  },
  {
   "cell_type": "code",
   "execution_count": 72,
   "metadata": {},
   "outputs": [
    {
     "name": "stdout",
     "output_type": "stream",
     "text": [
      "Total samples: 4669\n"
     ]
    }
   ],
   "source": [
    "number_of_rows = len(dataset)\n",
    "print(\"Total samples: {}\".format(len(dataset)))\n",
    "num_train = int(0.80 * number_of_rows)"
   ]
  },
  {
   "cell_type": "code",
   "execution_count": 73,
   "metadata": {},
   "outputs": [],
   "source": [
    "x = dataset[['cast', 'budget', 'producers', 'writers', 'directors']].values\n",
    "y = dataset['revenue'].values "
   ]
  },
  {
   "cell_type": "code",
   "execution_count": 74,
   "metadata": {},
   "outputs": [],
   "source": [
    "rand_gen = np.random.RandomState(0)\n",
    "shuffled_indices = rand_gen.permutation(np.arange(len(x)))"
   ]
  },
  {
   "cell_type": "code",
   "execution_count": 75,
   "metadata": {},
   "outputs": [],
   "source": [
    "x_train = x[shuffled_indices[:num_train]]\n",
    "y_train = y[shuffled_indices[:num_train]]\n",
    "x_test = x[shuffled_indices[num_train:]]\n",
    "y_test = y[shuffled_indices[num_train:]]"
   ]
  },
  {
   "cell_type": "code",
   "execution_count": 76,
   "metadata": {},
   "outputs": [
    {
     "name": "stdout",
     "output_type": "stream",
     "text": [
      "Train size: 3735\n",
      "Test size: 934\n"
     ]
    }
   ],
   "source": [
    "print(\"Train size: {}\".format(len(x_train)))\n",
    "print(\"Test size: {}\".format(len(x_test)))"
   ]
  },
  {
   "cell_type": "markdown",
   "metadata": {},
   "source": [
    "## Model"
   ]
  },
  {
   "cell_type": "markdown",
   "metadata": {},
   "source": []
  },
  {
   "cell_type": "code",
   "execution_count": 77,
   "metadata": {},
   "outputs": [],
   "source": [
    "KNN_model = KNeighborsRegressor(algorithm='auto', leaf_size=20, metric='minkowski',\n",
    "                    metric_params=None, n_jobs=None, n_neighbors=20, p=1,\n",
    "                    weights='distance')\n",
    "KNN_model.fit(x_train, y_train)\n",
    "y_pred_KNN = KNN_model.predict(x_test)"
   ]
  },
  {
   "cell_type": "code",
   "execution_count": 78,
   "metadata": {},
   "outputs": [],
   "source": [
    "rf_model = RandomForestRegressor(n_estimators=500, random_state=42)\n",
    "rf_model.fit(x_train, y_train)\n",
    "y_pred_rf = rf_model.predict(x_test)"
   ]
  },
  {
   "cell_type": "code",
   "execution_count": 79,
   "metadata": {},
   "outputs": [],
   "source": [
    "dt_model = DecisionTreeRegressor()\n",
    "dt_model.fit(x_train, y_train)\n",
    "y_pred_dt = dt_model.predict(x_test)"
   ]
  },
  {
   "cell_type": "code",
   "execution_count": 80,
   "metadata": {},
   "outputs": [],
   "source": [
    "Linear_model = LinearRegression()\n",
    "Linear_model.fit(x_train, y_train)\n",
    "y_pred_Linear = Linear_model.predict(x_test)"
   ]
  },
  {
   "cell_type": "code",
   "execution_count": 81,
   "metadata": {},
   "outputs": [],
   "source": [
    "# xg_model = xgb.XGBRegressor()\n",
    "# xg_model.fit(x_train, y_train)\n",
    "# y_pred_xg = dt_model.predict(x_test)"
   ]
  },
  {
   "cell_type": "code",
   "execution_count": 82,
   "metadata": {},
   "outputs": [],
   "source": [
    "# SGD_model = SGDRegressor()\n",
    "# SGD_model.fit(x_train, y_train)\n",
    "# y_pred_SGD = SGD_model.predict(x_test)"
   ]
  },
  {
   "cell_type": "code",
   "execution_count": 83,
   "metadata": {},
   "outputs": [],
   "source": [
    "# Logistic_model = LogisticRegression()\n",
    "# Logistic_model.fit(x_train, y_train)\n",
    "# y_pred_Logistic = Logistic_model.predict(x_test)"
   ]
  },
  {
   "cell_type": "code",
   "execution_count": 84,
   "metadata": {},
   "outputs": [
    {
     "name": "stdout",
     "output_type": "stream",
     "text": [
      "MSE RandomForestRegressor: 4.5683230415356055\n",
      "MSE DecisionTreeRegressor: 5.277246425157727\n",
      "MSE KNeighborsRegressor: 5.386894571383323\n",
      "MSE LinearRegression: 3.212514379443641\n"
     ]
    },
    {
     "data": {
      "text/html": [
       "<div>\n",
       "<style scoped>\n",
       "    .dataframe tbody tr th:only-of-type {\n",
       "        vertical-align: middle;\n",
       "    }\n",
       "\n",
       "    .dataframe tbody tr th {\n",
       "        vertical-align: top;\n",
       "    }\n",
       "\n",
       "    .dataframe thead th {\n",
       "        text-align: right;\n",
       "    }\n",
       "</style>\n",
       "<table border=\"1\" class=\"dataframe\">\n",
       "  <thead>\n",
       "    <tr style=\"text-align: right;\">\n",
       "      <th></th>\n",
       "      <th>Actual</th>\n",
       "      <th>Predicted_RF</th>\n",
       "      <th>Predicted_DT</th>\n",
       "      <th>Predicted_KNN</th>\n",
       "      <th>Predicted_Linear</th>\n",
       "    </tr>\n",
       "  </thead>\n",
       "  <tbody>\n",
       "    <tr>\n",
       "      <td>0</td>\n",
       "      <td>6.779454</td>\n",
       "      <td>1.367059</td>\n",
       "      <td>1.146608</td>\n",
       "      <td>1.297544</td>\n",
       "      <td>1.654034</td>\n",
       "    </tr>\n",
       "    <tr>\n",
       "      <td>1</td>\n",
       "      <td>0.367339</td>\n",
       "      <td>0.732772</td>\n",
       "      <td>0.384136</td>\n",
       "      <td>0.818499</td>\n",
       "      <td>1.234271</td>\n",
       "    </tr>\n",
       "    <tr>\n",
       "      <td>2</td>\n",
       "      <td>0.174600</td>\n",
       "      <td>0.355093</td>\n",
       "      <td>0.049222</td>\n",
       "      <td>0.296004</td>\n",
       "      <td>-0.063819</td>\n",
       "    </tr>\n",
       "    <tr>\n",
       "      <td>3</td>\n",
       "      <td>0.001000</td>\n",
       "      <td>0.154810</td>\n",
       "      <td>0.170000</td>\n",
       "      <td>0.099925</td>\n",
       "      <td>0.318444</td>\n",
       "    </tr>\n",
       "    <tr>\n",
       "      <td>4</td>\n",
       "      <td>0.166330</td>\n",
       "      <td>0.533166</td>\n",
       "      <td>0.291000</td>\n",
       "      <td>0.364807</td>\n",
       "      <td>0.734025</td>\n",
       "    </tr>\n",
       "    <tr>\n",
       "      <td>...</td>\n",
       "      <td>...</td>\n",
       "      <td>...</td>\n",
       "      <td>...</td>\n",
       "      <td>...</td>\n",
       "      <td>...</td>\n",
       "    </tr>\n",
       "    <tr>\n",
       "      <td>929</td>\n",
       "      <td>2.992886</td>\n",
       "      <td>1.370798</td>\n",
       "      <td>0.878400</td>\n",
       "      <td>1.217139</td>\n",
       "      <td>1.552128</td>\n",
       "    </tr>\n",
       "    <tr>\n",
       "      <td>930</td>\n",
       "      <td>0.018000</td>\n",
       "      <td>0.021519</td>\n",
       "      <td>0.017593</td>\n",
       "      <td>0.082796</td>\n",
       "      <td>0.302193</td>\n",
       "    </tr>\n",
       "    <tr>\n",
       "      <td>931</td>\n",
       "      <td>0.116000</td>\n",
       "      <td>0.287746</td>\n",
       "      <td>0.337882</td>\n",
       "      <td>0.218437</td>\n",
       "      <td>0.116662</td>\n",
       "    </tr>\n",
       "    <tr>\n",
       "      <td>932</td>\n",
       "      <td>0.099021</td>\n",
       "      <td>0.157517</td>\n",
       "      <td>0.164570</td>\n",
       "      <td>0.169819</td>\n",
       "      <td>-0.143112</td>\n",
       "    </tr>\n",
       "    <tr>\n",
       "      <td>933</td>\n",
       "      <td>0.447266</td>\n",
       "      <td>0.335997</td>\n",
       "      <td>0.144000</td>\n",
       "      <td>0.353780</td>\n",
       "      <td>0.115886</td>\n",
       "    </tr>\n",
       "  </tbody>\n",
       "</table>\n",
       "<p>934 rows × 5 columns</p>\n",
       "</div>"
      ],
      "text/plain": [
       "       Actual  Predicted_RF  Predicted_DT  Predicted_KNN  Predicted_Linear\n",
       "0    6.779454      1.367059      1.146608       1.297544          1.654034\n",
       "1    0.367339      0.732772      0.384136       0.818499          1.234271\n",
       "2    0.174600      0.355093      0.049222       0.296004         -0.063819\n",
       "3    0.001000      0.154810      0.170000       0.099925          0.318444\n",
       "4    0.166330      0.533166      0.291000       0.364807          0.734025\n",
       "..        ...           ...           ...            ...               ...\n",
       "929  2.992886      1.370798      0.878400       1.217139          1.552128\n",
       "930  0.018000      0.021519      0.017593       0.082796          0.302193\n",
       "931  0.116000      0.287746      0.337882       0.218437          0.116662\n",
       "932  0.099021      0.157517      0.164570       0.169819         -0.143112\n",
       "933  0.447266      0.335997      0.144000       0.353780          0.115886\n",
       "\n",
       "[934 rows x 5 columns]"
      ]
     },
     "execution_count": 84,
     "metadata": {},
     "output_type": "execute_result"
    }
   ],
   "source": [
    "print('MSE RandomForestRegressor:', metrics.mean_squared_error(y_test, y_pred_rf))\n",
    "print('MSE DecisionTreeRegressor:', metrics.mean_squared_error(y_test, y_pred_dt))\n",
    "print('MSE KNeighborsRegressor:', metrics.mean_squared_error(y_test, y_pred_KNN))\n",
    "print('MSE LinearRegression:', metrics.mean_squared_error(y_test, y_pred_Linear))\n",
    "#print('MSE LogisticRegression:', metrics.mean_squared_error(y_test, y_pred_Logistic))\n",
    "#print('MSE XGBRegressor:', metrics.mean_squared_error(y_test, y_pred_xg))\n",
    "#print('MSE SGDRegressor:', metrics.mean_squared_error(y_test, y_pred_xg))\n",
    "df = pd.DataFrame({'Actual':y_test, 'Predicted_RF':y_pred_rf, 'Predicted_DT':y_pred_dt, 'Predicted_KNN': y_pred_KNN, 'Predicted_Linear': y_pred_Linear, 'Predicted_Linear': y_pred_Linear})#,'Predicted_XGB': y_pred_xg, 'Predicted_SGD': y_pred_SGD})\n",
    "df"
   ]
  },
  {
   "cell_type": "code",
   "execution_count": 85,
   "metadata": {},
   "outputs": [],
   "source": [
    "# print('Mean Absolute Error:', metrics.mean_absolute_error(y_test, y_pred))\n",
    "# print('Mean Squared Error:', metrics.mean_squared_error(y_test, y_pred))\n",
    "# print('Root Mean Squared Error:', np.sqrt(metrics.mean_squared_error(y_test, y_pred)))"
   ]
  },
  {
   "cell_type": "code",
   "execution_count": 86,
   "metadata": {},
   "outputs": [],
   "source": [
    "# plt.figure(figsize=(5, 7))\n",
    "\n",
    "# ax = sns.distplot(y, hist=False, color=\"r\", label=\"Actual Value\")\n",
    "# sns.distplot(y_pred, hist=False, color=\"b\", label=\"Fitted Values\" , ax=ax)\n",
    "\n",
    "# plt.title('Actual vs Fitted Values for Price')\n",
    "\n",
    "# plt.show()\n",
    "# plt.close()"
   ]
  },
  {
   "cell_type": "markdown",
   "metadata": {},
   "source": [
    "# grid"
   ]
  },
  {
   "cell_type": "markdown",
   "metadata": {},
   "source": [
    "# KNN model"
   ]
  },
  {
   "cell_type": "code",
   "execution_count": 87,
   "metadata": {
    "scrolled": true
   },
   "outputs": [
    {
     "name": "stdout",
     "output_type": "stream",
     "text": [
      "Fitting 3 folds for each of 480 candidates, totalling 1440 fits\n"
     ]
    },
    {
     "name": "stderr",
     "output_type": "stream",
     "text": [
      "[Parallel(n_jobs=-1)]: Using backend LokyBackend with 8 concurrent workers.\n",
      "[Parallel(n_jobs=-1)]: Done  34 tasks      | elapsed:    4.3s\n",
      "[Parallel(n_jobs=-1)]: Done 760 tasks      | elapsed:   11.5s\n"
     ]
    },
    {
     "name": "stdout",
     "output_type": "stream",
     "text": [
      "KNeighborsRegressor(algorithm='auto', leaf_size=20, metric='minkowski',\n",
      "                    metric_params=None, n_jobs=None, n_neighbors=20, p=1,\n",
      "                    weights='distance')\n",
      "-5.386894571383323\n"
     ]
    },
    {
     "name": "stderr",
     "output_type": "stream",
     "text": [
      "[Parallel(n_jobs=-1)]: Done 1440 out of 1440 | elapsed:   23.1s finished\n"
     ]
    }
   ],
   "source": [
    "params = {\n",
    "    'n_neighbors' : [5, 10, 15, 20, 25, 30],\n",
    "    'weights': ['uniform', 'distance'],\n",
    "    'algorithm': ['auto', 'ball_tree', 'kd_tree', 'brute'],\n",
    "    'leaf_size': [10,20,30,40,50],\n",
    "     'p': [1,2]\n",
    "}\n",
    "grid_kn = GridSearchCV(estimator = KNN_model,\n",
    "                        param_grid = params,\n",
    "                        scoring = 'neg_mean_squared_error', \n",
    "                        cv = 3, \n",
    "                        verbose = 1,\n",
    "                        n_jobs = -1)\n",
    "grid_kn.fit(x_train, y_train)\n",
    "print(grid_kn.best_estimator_)\n",
    "print(grid_kn.score(x_test, y_test))"
   ]
  },
  {
   "cell_type": "markdown",
   "metadata": {},
   "source": [
    "# rf model"
   ]
  },
  {
   "cell_type": "code",
   "execution_count": 89,
   "metadata": {},
   "outputs": [
    {
     "name": "stdout",
     "output_type": "stream",
     "text": [
      "Fitting 3 folds for each of 150 candidates, totalling 450 fits\n"
     ]
    },
    {
     "name": "stderr",
     "output_type": "stream",
     "text": [
      "[Parallel(n_jobs=-1)]: Using backend LokyBackend with 8 concurrent workers.\n",
      "[Parallel(n_jobs=-1)]: Done  34 tasks      | elapsed:   27.3s\n",
      "[Parallel(n_jobs=-1)]: Done 184 tasks      | elapsed:  1.7min\n",
      "[Parallel(n_jobs=-1)]: Done 434 tasks      | elapsed: 24.8min\n",
      "[Parallel(n_jobs=-1)]: Done 450 out of 450 | elapsed: 26.0min finished\n"
     ]
    },
    {
     "name": "stdout",
     "output_type": "stream",
     "text": [
      "RandomForestRegressor(bootstrap=True, criterion='mae', max_depth=None,\n",
      "                      max_features='sqrt', max_leaf_nodes=None,\n",
      "                      min_impurity_decrease=0.0, min_impurity_split=None,\n",
      "                      min_samples_leaf=1, min_samples_split=2,\n",
      "                      min_weight_fraction_leaf=0.0, n_estimators=200,\n",
      "                      n_jobs=None, oob_score=False, random_state=42, verbose=0,\n",
      "                      warm_start=False)\n",
      "-4.787217864476884\n"
     ]
    }
   ],
   "source": [
    "params = {\n",
    "    'n_estimators' : [100, 200, 300, 400, 500],\n",
    "    'criterion': ['mse', 'mae'],\n",
    "    #'max_depth': ['none'],\n",
    "    'min_samples_split': [2,5,8,10,15],\n",
    "    'max_features': ['auto','sqrt','log2']\n",
    "}\n",
    "grid_rf = GridSearchCV(estimator = rf_model,\n",
    "                        param_grid = params,\n",
    "                        scoring = 'neg_mean_squared_error', \n",
    "                        cv = 3, \n",
    "                        verbose = 1,\n",
    "                        n_jobs = -1)\n",
    "grid_rf.fit(x_train, y_train)\n",
    "print(grid_rf.best_estimator_)\n",
    "print(grid_rf.score(x_test, y_test))"
   ]
  },
  {
   "cell_type": "markdown",
   "metadata": {},
   "source": [
    "# dt_model"
   ]
  },
  {
   "cell_type": "code",
   "execution_count": 90,
   "metadata": {},
   "outputs": [
    {
     "name": "stdout",
     "output_type": "stream",
     "text": [
      "Fitting 3 folds for each of 90 candidates, totalling 270 fits\n"
     ]
    },
    {
     "name": "stderr",
     "output_type": "stream",
     "text": [
      "[Parallel(n_jobs=-1)]: Using backend LokyBackend with 8 concurrent workers.\n"
     ]
    },
    {
     "name": "stdout",
     "output_type": "stream",
     "text": [
      "DecisionTreeRegressor(criterion='friedman_mse', max_depth=None,\n",
      "                      max_features='log2', max_leaf_nodes=None,\n",
      "                      min_impurity_decrease=0.0, min_impurity_split=None,\n",
      "                      min_samples_leaf=1, min_samples_split=8,\n",
      "                      min_weight_fraction_leaf=0.0, presort=False,\n",
      "                      random_state=None, splitter='random')\n",
      "-2.7706783033005706\n"
     ]
    },
    {
     "name": "stderr",
     "output_type": "stream",
     "text": [
      "[Parallel(n_jobs=-1)]: Done 270 out of 270 | elapsed:    4.0s finished\n"
     ]
    }
   ],
   "source": [
    "params = {\n",
    "    'criterion': ['mse', 'mae','friedman_mse'],\n",
    "    'splitter': ['best','random'],\n",
    "    'min_samples_split': [2,5,8,10,15],\n",
    "    'max_features': ['auto','sqrt','log2']\n",
    "}\n",
    "grid_dt = GridSearchCV(estimator = dt_model,\n",
    "                        param_grid = params,\n",
    "                        scoring = 'neg_mean_squared_error', \n",
    "                        cv = 3, \n",
    "                        verbose = 1,\n",
    "                        n_jobs = -1)\n",
    "grid_dt.fit(x_train, y_train)\n",
    "print(grid_dt.best_estimator_)\n",
    "print(grid_dt.score(x_test, y_test))"
   ]
  },
  {
   "cell_type": "markdown",
   "metadata": {},
   "source": [
    "# Linear_model \n"
   ]
  },
  {
   "cell_type": "code",
   "execution_count": null,
   "metadata": {},
   "outputs": [],
   "source": [
    "params = {\n",
    "    'fit_intercept' : ['true', 'false'],\n",
    "    #'normalizebool': ['true', 'false'],\n",
    "    'copy_X': ['true', 'false']  \n",
    "}\n",
    "grid_lr = GridSearchCV(estimator = Linear_model,\n",
    "                        param_grid = params,\n",
    "                        scoring = 'neg_mean_squared_error', \n",
    "                        cv = 3, \n",
    "                        verbose = 1,\n",
    "                        n_jobs = -1)\n",
    "grid_lr.fit(x_train, y_train)\n",
    "print(grid_lr.best_estimator_)\n",
    "print(grid_lr.score(x_test, y_test))"
   ]
  },
  {
   "cell_type": "markdown",
   "metadata": {},
   "source": [
    "# xg_model"
   ]
  },
  {
   "cell_type": "code",
   "execution_count": null,
   "metadata": {},
   "outputs": [],
   "source": [
    "params = {\n",
    "    'data' : ['true', 'false'],\n",
    "    'label': ['true', 'false'],\n",
    "    'missing': ['true', 'false']  \n",
    "}\n",
    "grid_xg = GridSearchCV(estimator = xg_model,\n",
    "                        param_grid = params,\n",
    "                        scoring = 'neg_mean_squared_error', \n",
    "                        cv = 3, \n",
    "                        verbose = 1,\n",
    "                        n_jobs = -1)\n",
    "grid_xg.fit(x_train, y_train)\n",
    "print(grid_xg.best_estimator_)\n",
    "print(grid_xg.score(x_test, y_test))"
   ]
  },
  {
   "cell_type": "code",
   "execution_count": null,
   "metadata": {},
   "outputs": [],
   "source": []
  },
  {
   "cell_type": "code",
   "execution_count": null,
   "metadata": {
    "slideshow": {
     "slide_type": "subslide"
    }
   },
   "outputs": [],
   "source": [
    "# random_state = 38\n",
    "# log_clf = LogisticRegression(random_state=random_state, solver='lbfgs')\n",
    "# svm_clf = SVC(random_state=random_state)\n",
    "# voting_clf = VotingClassifier(estimators=[('lr', log_clf), ('rf', rnd_clf), ('svc', svm_clf)], voting='hard')"
   ]
  },
  {
   "cell_type": "code",
   "execution_count": null,
   "metadata": {
    "scrolled": false
   },
   "outputs": [],
   "source": [
    "# for clf in (log_clf, rnd_clf, svm_clf, voting_clf):\n",
    "#     clf.fit(x_train, y_train)\n",
    "#     y_pred = clf.predict(x_test)\n",
    "#     print(clf.__class__.__name__, accuracy_score(y_test, y_pred))"
   ]
  },
  {
   "cell_type": "code",
   "execution_count": null,
   "metadata": {},
   "outputs": [],
   "source": []
  }
 ],
 "metadata": {
  "celltoolbar": "Edit Metadata",
  "kernelspec": {
   "display_name": "Python 3",
   "language": "python",
   "name": "python3"
  },
  "language_info": {
   "codemirror_mode": {
    "name": "ipython",
    "version": 3
   },
   "file_extension": ".py",
   "mimetype": "text/x-python",
   "name": "python",
   "nbconvert_exporter": "python",
   "pygments_lexer": "ipython3",
   "version": "3.7.4"
  }
 },
 "nbformat": 4,
 "nbformat_minor": 2
}
