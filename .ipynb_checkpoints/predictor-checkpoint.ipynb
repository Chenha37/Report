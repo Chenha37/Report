{
 "cells": [
  {
   "cell_type": "markdown",
   "metadata": {},
   "source": [
    "### tallllll"
   ]
  },
  {
   "cell_type": "code",
   "execution_count": 42,
   "metadata": {
    "slideshow": {
     "slide_type": "skip"
    }
   },
   "outputs": [],
   "source": [
    "import numpy as np\n",
    "import pandas as pd\n",
    "import matplotlib.pyplot as plt\n",
    "%matplotlib notebook\n",
    "from sklearn.ensemble import RandomForestRegressor\n",
    "from sklearn.metrics import accuracy_score\n",
    "from sklearn.linear_model import LogisticRegression\n",
    "from sklearn.tree import DecisionTreeRegressor\n",
    "from sklearn.neighbors import KNeighborsRegressor \n",
    "from sklearn.linear_model import LinearRegression\n",
    "from sklearn.linear_model import LogisticRegression\n",
    "from sklearn.svm import SVC\n",
    "import warnings\n",
    "import seaborn as sns\n",
    "from sklearn import metrics\n",
    "warnings.filterwarnings(\"ignore\", category=DeprecationWarning) "
   ]
  },
  {
   "cell_type": "code",
   "execution_count": 2,
   "metadata": {},
   "outputs": [],
   "source": [
    "dataset = pd.read_csv('DBClassifiedFinal.csv')\n",
    "dataset = dataset.drop(columns=['Unnamed: 0'])"
   ]
  },
  {
   "cell_type": "code",
   "execution_count": 3,
   "metadata": {},
   "outputs": [
    {
     "name": "stdout",
     "output_type": "stream",
     "text": [
      "Drop all invalid rows: 136\n"
     ]
    }
   ],
   "source": [
    "invalid_idx = []\n",
    "for ii in range(len(dataset)):\n",
    "    x = dataset.iloc[ii].cast\n",
    "    if (len(x) > 100) or x == '[]':\n",
    "        invalid_idx.append(ii)\n",
    "        \n",
    "print(\"Drop all invalid rows:\", len(invalid_idx))"
   ]
  },
  {
   "cell_type": "code",
   "execution_count": 4,
   "metadata": {},
   "outputs": [],
   "source": [
    "dataset = dataset.drop(invalid_idx)\n",
    "dataset = dataset.drop_duplicates()"
   ]
  },
  {
   "cell_type": "code",
   "execution_count": 5,
   "metadata": {},
   "outputs": [
    {
     "data": {
      "text/html": [
       "<div>\n",
       "<style scoped>\n",
       "    .dataframe tbody tr th:only-of-type {\n",
       "        vertical-align: middle;\n",
       "    }\n",
       "\n",
       "    .dataframe tbody tr th {\n",
       "        vertical-align: top;\n",
       "    }\n",
       "\n",
       "    .dataframe thead th {\n",
       "        text-align: right;\n",
       "    }\n",
       "</style>\n",
       "<table border=\"1\" class=\"dataframe\">\n",
       "  <thead>\n",
       "    <tr style=\"text-align: right;\">\n",
       "      <th></th>\n",
       "      <th>title</th>\n",
       "      <th>movie_id</th>\n",
       "      <th>cast</th>\n",
       "      <th>budget</th>\n",
       "      <th>revenue</th>\n",
       "      <th>producers</th>\n",
       "      <th>writers</th>\n",
       "      <th>directors</th>\n",
       "    </tr>\n",
       "  </thead>\n",
       "  <tbody>\n",
       "    <tr>\n",
       "      <td>0</td>\n",
       "      <td>Avatar</td>\n",
       "      <td>19995</td>\n",
       "      <td>2.922917223654528</td>\n",
       "      <td>2.3700</td>\n",
       "      <td>27.879651</td>\n",
       "      <td>29.613839</td>\n",
       "      <td>12.897685</td>\n",
       "      <td>6.448842</td>\n",
       "    </tr>\n",
       "    <tr>\n",
       "      <td>1</td>\n",
       "      <td>Pirates of the Caribbean: At World's End</td>\n",
       "      <td>285</td>\n",
       "      <td>1.2913461411252305</td>\n",
       "      <td>3.0000</td>\n",
       "      <td>9.610000</td>\n",
       "      <td>18.890153</td>\n",
       "      <td>10.035811</td>\n",
       "      <td>4.538591</td>\n",
       "    </tr>\n",
       "    <tr>\n",
       "      <td>2</td>\n",
       "      <td>Spectre</td>\n",
       "      <td>206647</td>\n",
       "      <td>2.7319103842129633</td>\n",
       "      <td>2.4500</td>\n",
       "      <td>8.806746</td>\n",
       "      <td>8.528419</td>\n",
       "      <td>31.454472</td>\n",
       "      <td>3.099638</td>\n",
       "    </tr>\n",
       "    <tr>\n",
       "      <td>3</td>\n",
       "      <td>The Dark Knight Rises</td>\n",
       "      <td>49026</td>\n",
       "      <td>1.4108010609649992</td>\n",
       "      <td>2.5000</td>\n",
       "      <td>10.849391</td>\n",
       "      <td>14.449937</td>\n",
       "      <td>20.059641</td>\n",
       "      <td>5.333298</td>\n",
       "    </tr>\n",
       "    <tr>\n",
       "      <td>4</td>\n",
       "      <td>John Carter</td>\n",
       "      <td>49529</td>\n",
       "      <td>1.4981138058730157</td>\n",
       "      <td>2.6000</td>\n",
       "      <td>2.841391</td>\n",
       "      <td>13.394146</td>\n",
       "      <td>12.193621</td>\n",
       "      <td>6.308121</td>\n",
       "    </tr>\n",
       "    <tr>\n",
       "      <td>...</td>\n",
       "      <td>...</td>\n",
       "      <td>...</td>\n",
       "      <td>...</td>\n",
       "      <td>...</td>\n",
       "      <td>...</td>\n",
       "      <td>...</td>\n",
       "      <td>...</td>\n",
       "      <td>...</td>\n",
       "    </tr>\n",
       "    <tr>\n",
       "      <td>5368</td>\n",
       "      <td>El Mariachi</td>\n",
       "      <td>9367</td>\n",
       "      <td>0.384301845</td>\n",
       "      <td>0.0022</td>\n",
       "      <td>0.020409</td>\n",
       "      <td>1.370642</td>\n",
       "      <td>0.951869</td>\n",
       "      <td>0.951869</td>\n",
       "    </tr>\n",
       "    <tr>\n",
       "      <td>5369</td>\n",
       "      <td>Newlyweds</td>\n",
       "      <td>72766</td>\n",
       "      <td>1.1208146306666666</td>\n",
       "      <td>0.0900</td>\n",
       "      <td>0.033600</td>\n",
       "      <td>0.228197</td>\n",
       "      <td>0.087957</td>\n",
       "      <td>0.087957</td>\n",
       "    </tr>\n",
       "    <tr>\n",
       "      <td>5370</td>\n",
       "      <td>Signed, Sealed, Delivered</td>\n",
       "      <td>231617</td>\n",
       "      <td>0.4218125748484849</td>\n",
       "      <td>0.0010</td>\n",
       "      <td>0.001000</td>\n",
       "      <td>0.001000</td>\n",
       "      <td>2.220000</td>\n",
       "      <td>0.003009</td>\n",
       "    </tr>\n",
       "    <tr>\n",
       "      <td>5371</td>\n",
       "      <td>Shanghai Calling</td>\n",
       "      <td>126186</td>\n",
       "      <td>1.4863843466666664</td>\n",
       "      <td>0.0074</td>\n",
       "      <td>0.000100</td>\n",
       "      <td>2.980000</td>\n",
       "      <td>2.220000</td>\n",
       "      <td>0.000100</td>\n",
       "    </tr>\n",
       "    <tr>\n",
       "      <td>5372</td>\n",
       "      <td>My Date with Drew</td>\n",
       "      <td>25975</td>\n",
       "      <td>0.49726442878571425</td>\n",
       "      <td>0.0074</td>\n",
       "      <td>0.002628</td>\n",
       "      <td>2.980000</td>\n",
       "      <td>2.220000</td>\n",
       "      <td>0.054710</td>\n",
       "    </tr>\n",
       "  </tbody>\n",
       "</table>\n",
       "<p>4669 rows × 8 columns</p>\n",
       "</div>"
      ],
      "text/plain": [
       "                                         title  movie_id                 cast  \\\n",
       "0                                       Avatar     19995    2.922917223654528   \n",
       "1     Pirates of the Caribbean: At World's End       285   1.2913461411252305   \n",
       "2                                      Spectre    206647   2.7319103842129633   \n",
       "3                        The Dark Knight Rises     49026   1.4108010609649992   \n",
       "4                                  John Carter     49529   1.4981138058730157   \n",
       "...                                        ...       ...                  ...   \n",
       "5368                               El Mariachi      9367          0.384301845   \n",
       "5369                                 Newlyweds     72766   1.1208146306666666   \n",
       "5370                 Signed, Sealed, Delivered    231617   0.4218125748484849   \n",
       "5371                          Shanghai Calling    126186   1.4863843466666664   \n",
       "5372                         My Date with Drew     25975  0.49726442878571425   \n",
       "\n",
       "      budget    revenue  producers    writers  directors  \n",
       "0     2.3700  27.879651  29.613839  12.897685   6.448842  \n",
       "1     3.0000   9.610000  18.890153  10.035811   4.538591  \n",
       "2     2.4500   8.806746   8.528419  31.454472   3.099638  \n",
       "3     2.5000  10.849391  14.449937  20.059641   5.333298  \n",
       "4     2.6000   2.841391  13.394146  12.193621   6.308121  \n",
       "...      ...        ...        ...        ...        ...  \n",
       "5368  0.0022   0.020409   1.370642   0.951869   0.951869  \n",
       "5369  0.0900   0.033600   0.228197   0.087957   0.087957  \n",
       "5370  0.0010   0.001000   0.001000   2.220000   0.003009  \n",
       "5371  0.0074   0.000100   2.980000   2.220000   0.000100  \n",
       "5372  0.0074   0.002628   2.980000   2.220000   0.054710  \n",
       "\n",
       "[4669 rows x 8 columns]"
      ]
     },
     "execution_count": 5,
     "metadata": {},
     "output_type": "execute_result"
    }
   ],
   "source": [
    "dataset.to_csv('DBClassifiedFinal_Final_After_Cleaning.csv')\n",
    "dataset"
   ]
  },
  {
   "cell_type": "code",
   "execution_count": 6,
   "metadata": {},
   "outputs": [
    {
     "name": "stdout",
     "output_type": "stream",
     "text": [
      "Total samples: 4669\n"
     ]
    }
   ],
   "source": [
    "number_of_rows = len(dataset)\n",
    "print(\"Total samples: {}\".format(len(dataset)))\n",
    "num_train = int(0.80 * number_of_rows)"
   ]
  },
  {
   "cell_type": "code",
   "execution_count": 7,
   "metadata": {},
   "outputs": [],
   "source": [
    "x = dataset[['cast', 'budget', 'producers', 'writers', 'directors']].values\n",
    "y = dataset['revenue'].values "
   ]
  },
  {
   "cell_type": "markdown",
   "metadata": {},
   "source": [
    "### Spilt the data into train and test set"
   ]
  },
  {
   "cell_type": "code",
   "execution_count": 8,
   "metadata": {},
   "outputs": [],
   "source": [
    "rand_gen = np.random.RandomState(0)\n",
    "shuffled_indices = rand_gen.permutation(np.arange(len(x)))"
   ]
  },
  {
   "cell_type": "code",
   "execution_count": 9,
   "metadata": {},
   "outputs": [],
   "source": [
    "x_train = x[shuffled_indices[:num_train]]\n",
    "y_train = y[shuffled_indices[:num_train]]\n",
    "x_test = x[shuffled_indices[num_train:]]\n",
    "y_test = y[shuffled_indices[num_train:]]"
   ]
  },
  {
   "cell_type": "code",
   "execution_count": 10,
   "metadata": {},
   "outputs": [
    {
     "name": "stdout",
     "output_type": "stream",
     "text": [
      "Train size: 3735\n",
      "Test size: 934\n"
     ]
    }
   ],
   "source": [
    "print(\"Train size: {}\".format(len(x_train)))\n",
    "print(\"Test size: {}\".format(len(x_test)))"
   ]
  },
  {
   "cell_type": "markdown",
   "metadata": {},
   "source": [
    "## Model"
   ]
  },
  {
   "cell_type": "markdown",
   "metadata": {},
   "source": [
    "### RandomForestRegressor"
   ]
  },
  {
   "cell_type": "code",
   "execution_count": 20,
   "metadata": {},
   "outputs": [],
   "source": [
    "rf_model = RandomForestRegressor(n_estimators=500, random_state=42)\n",
    "rf_model.fit(x_train, y_train)\n",
    "y_pred_rf = rf_model.predict(x_test)"
   ]
  },
  {
   "cell_type": "code",
   "execution_count": 29,
   "metadata": {},
   "outputs": [],
   "source": [
    "dt_model = DecisionTreeRegressor()\n",
    "dt_model.fit(x_train, y_train)\n",
    "y_pred_dt = dt_model.predict(x_test)"
   ]
  },
  {
   "cell_type": "code",
   "execution_count": 34,
   "metadata": {},
   "outputs": [],
   "source": [
    "KNN_model = KNeighborsRegressor()\n",
    "KNN_model.fit(x_train, y_train)\n",
    "y_pred_KNN = KNN_model.predict(x_test)"
   ]
  },
  {
   "cell_type": "code",
   "execution_count": 39,
   "metadata": {},
   "outputs": [],
   "source": [
    "Linear_model = LinearRegression()\n",
    "Linear_model.fit(x_train, y_train)\n",
    "y_pred_Linear = Linear_model.predict(x_test)"
   ]
  },
  {
   "cell_type": "code",
   "execution_count": null,
   "metadata": {},
   "outputs": [],
   "source": [
    "xg_reg = xgb.XGBRegressor(objective ='reg:linear', colsample_bytree = 0.3, learning_rate = 0.1,max_depth = 5, alpha = 10, n_estimators = 10)\n",
    "import xgboost as xgb\n",
    "\n"
   ]
  },
  {
   "cell_type": "code",
   "execution_count": 44,
   "metadata": {},
   "outputs": [],
   "source": [
    "# Logistic_model = LogisticRegression()\n",
    "# Logistic_model.fit(x_train, y_train)\n",
    "# y_pred_Logistic = Logistic_model.predict(x_test)"
   ]
  },
  {
   "cell_type": "code",
   "execution_count": 40,
   "metadata": {},
   "outputs": [
    {
     "name": "stdout",
     "output_type": "stream",
     "text": [
      "MSE RandomForestRegressor: 5.432326509883315\n",
      "MSE DecisionTreeRegressor: 5.782861938408447\n",
      "MSE KNeighborsRegressor: 5.263518153996206\n",
      "MSE LinearRegression: 3.212514379443641\n"
     ]
    },
    {
     "data": {
      "text/html": [
       "<div>\n",
       "<style scoped>\n",
       "    .dataframe tbody tr th:only-of-type {\n",
       "        vertical-align: middle;\n",
       "    }\n",
       "\n",
       "    .dataframe tbody tr th {\n",
       "        vertical-align: top;\n",
       "    }\n",
       "\n",
       "    .dataframe thead th {\n",
       "        text-align: right;\n",
       "    }\n",
       "</style>\n",
       "<table border=\"1\" class=\"dataframe\">\n",
       "  <thead>\n",
       "    <tr style=\"text-align: right;\">\n",
       "      <th></th>\n",
       "      <th>Actual</th>\n",
       "      <th>Predicted_RF</th>\n",
       "      <th>Predicted_DT</th>\n",
       "      <th>Predicted_KNN</th>\n",
       "      <th>Predicted_Linear</th>\n",
       "    </tr>\n",
       "  </thead>\n",
       "  <tbody>\n",
       "    <tr>\n",
       "      <td>0</td>\n",
       "      <td>6.779454</td>\n",
       "      <td>1.146608</td>\n",
       "      <td>0.727790</td>\n",
       "      <td>1.011115</td>\n",
       "      <td>1.654034</td>\n",
       "    </tr>\n",
       "    <tr>\n",
       "      <td>1</td>\n",
       "      <td>0.367339</td>\n",
       "      <td>0.384136</td>\n",
       "      <td>0.211488</td>\n",
       "      <td>0.908165</td>\n",
       "      <td>1.234271</td>\n",
       "    </tr>\n",
       "    <tr>\n",
       "      <td>2</td>\n",
       "      <td>0.174600</td>\n",
       "      <td>0.049222</td>\n",
       "      <td>0.005298</td>\n",
       "      <td>0.337885</td>\n",
       "      <td>-0.063819</td>\n",
       "    </tr>\n",
       "    <tr>\n",
       "      <td>3</td>\n",
       "      <td>0.001000</td>\n",
       "      <td>0.207195</td>\n",
       "      <td>0.000000</td>\n",
       "      <td>0.013501</td>\n",
       "      <td>0.318444</td>\n",
       "    </tr>\n",
       "    <tr>\n",
       "      <td>4</td>\n",
       "      <td>0.166330</td>\n",
       "      <td>0.291000</td>\n",
       "      <td>0.655351</td>\n",
       "      <td>0.394299</td>\n",
       "      <td>0.734025</td>\n",
       "    </tr>\n",
       "    <tr>\n",
       "      <td>...</td>\n",
       "      <td>...</td>\n",
       "      <td>...</td>\n",
       "      <td>...</td>\n",
       "      <td>...</td>\n",
       "      <td>...</td>\n",
       "    </tr>\n",
       "    <tr>\n",
       "      <td>929</td>\n",
       "      <td>2.992886</td>\n",
       "      <td>0.878400</td>\n",
       "      <td>2.449318</td>\n",
       "      <td>1.265902</td>\n",
       "      <td>1.552128</td>\n",
       "    </tr>\n",
       "    <tr>\n",
       "      <td>930</td>\n",
       "      <td>0.018000</td>\n",
       "      <td>0.021000</td>\n",
       "      <td>0.017593</td>\n",
       "      <td>0.097185</td>\n",
       "      <td>0.302193</td>\n",
       "    </tr>\n",
       "    <tr>\n",
       "      <td>931</td>\n",
       "      <td>0.116000</td>\n",
       "      <td>0.360984</td>\n",
       "      <td>0.154788</td>\n",
       "      <td>0.246792</td>\n",
       "      <td>0.116662</td>\n",
       "    </tr>\n",
       "    <tr>\n",
       "      <td>932</td>\n",
       "      <td>0.099021</td>\n",
       "      <td>0.143000</td>\n",
       "      <td>0.120000</td>\n",
       "      <td>0.183072</td>\n",
       "      <td>-0.143112</td>\n",
       "    </tr>\n",
       "    <tr>\n",
       "      <td>933</td>\n",
       "      <td>0.447266</td>\n",
       "      <td>0.144000</td>\n",
       "      <td>0.239784</td>\n",
       "      <td>0.379725</td>\n",
       "      <td>0.115886</td>\n",
       "    </tr>\n",
       "  </tbody>\n",
       "</table>\n",
       "<p>934 rows × 5 columns</p>\n",
       "</div>"
      ],
      "text/plain": [
       "       Actual  Predicted_RF  Predicted_DT  Predicted_KNN  Predicted_Linear\n",
       "0    6.779454      1.146608      0.727790       1.011115          1.654034\n",
       "1    0.367339      0.384136      0.211488       0.908165          1.234271\n",
       "2    0.174600      0.049222      0.005298       0.337885         -0.063819\n",
       "3    0.001000      0.207195      0.000000       0.013501          0.318444\n",
       "4    0.166330      0.291000      0.655351       0.394299          0.734025\n",
       "..        ...           ...           ...            ...               ...\n",
       "929  2.992886      0.878400      2.449318       1.265902          1.552128\n",
       "930  0.018000      0.021000      0.017593       0.097185          0.302193\n",
       "931  0.116000      0.360984      0.154788       0.246792          0.116662\n",
       "932  0.099021      0.143000      0.120000       0.183072         -0.143112\n",
       "933  0.447266      0.144000      0.239784       0.379725          0.115886\n",
       "\n",
       "[934 rows x 5 columns]"
      ]
     },
     "execution_count": 40,
     "metadata": {},
     "output_type": "execute_result"
    }
   ],
   "source": [
    "print('MSE RandomForestRegressor:', metrics.mean_squared_error(y_test, y_pred_rf))\n",
    "print('MSE DecisionTreeRegressor:', metrics.mean_squared_error(y_test, y_pred_dt))\n",
    "print('MSE KNeighborsRegressor:', metrics.mean_squared_error(y_test, y_pred_KNN))\n",
    "print('MSE LinearRegression:', metrics.mean_squared_error(y_test, y_pred_Linear))\n",
    "print('MSE LogisticRegression:', metrics.mean_squared_error(y_test, y_pred_Logistic))\n",
    "\n",
    "df = pd.DataFrame({'Actual':y_test, 'Predicted_RF':y_pred_rf, 'Predicted_DT':y_pred_dt, 'Predicted_KNN': y_pred_KNN, 'Predicted_Linear': y_pred_Linear, 'Predicted_Logistic': y_pred_Logistic})\n",
    "df"
   ]
  },
  {
   "cell_type": "code",
   "execution_count": 27,
   "metadata": {},
   "outputs": [],
   "source": [
    "# print('Mean Absolute Error:', metrics.mean_absolute_error(y_test, y_pred))\n",
    "# print('Mean Squared Error:', metrics.mean_squared_error(y_test, y_pred))\n",
    "# print('Root Mean Squared Error:', np.sqrt(metrics.mean_squared_error(y_test, y_pred)))"
   ]
  },
  {
   "cell_type": "code",
   "execution_count": 15,
   "metadata": {},
   "outputs": [
    {
     "data": {
      "image/png": "[encoded data removed]",
      "text/plain": [
       "<Figure size 360x504 with 1 Axes>"
      ]
     },
     "metadata": {
      "needs_background": "light"
     },
     "output_type": "display_data"
    }
   ],
   "source": [
    "plt.figure(figsize=(5, 7))\n",
    "\n",
    "ax = sns.distplot(y, hist=False, color=\"r\", label=\"Actual Value\")\n",
    "sns.distplot(y_pred, hist=False, color=\"b\", label=\"Fitted Values\" , ax=ax)\n",
    "\n",
    "plt.title('Actual vs Fitted Values for Price')\n",
    "\n",
    "plt.show()\n",
    "plt.close()"
   ]
  },
  {
   "cell_type": "code",
   "execution_count": null,
   "metadata": {},
   "outputs": [],
   "source": []
  },
  {
   "cell_type": "code",
   "execution_count": null,
   "metadata": {},
   "outputs": [],
   "source": []
  },
  {
   "cell_type": "code",
   "execution_count": null,
   "metadata": {},
   "outputs": [],
   "source": []
  },
  {
   "cell_type": "code",
   "execution_count": null,
   "metadata": {},
   "outputs": [],
   "source": []
  },
  {
   "cell_type": "code",
   "execution_count": null,
   "metadata": {},
   "outputs": [],
   "source": []
  },
  {
   "cell_type": "code",
   "execution_count": null,
   "metadata": {},
   "outputs": [],
   "source": []
  },
  {
   "cell_type": "code",
   "execution_count": null,
   "metadata": {},
   "outputs": [],
   "source": []
  },
  {
   "cell_type": "code",
   "execution_count": null,
   "metadata": {},
   "outputs": [],
   "source": []
  },
  {
   "cell_type": "code",
   "execution_count": 16,
   "metadata": {
    "slideshow": {
     "slide_type": "subslide"
    }
   },
   "outputs": [],
   "source": [
    "# random_state = 38\n",
    "# log_clf = LogisticRegression(random_state=random_state, solver='lbfgs')\n",
    "# svm_clf = SVC(random_state=random_state)\n",
    "# voting_clf = VotingClassifier(estimators=[('lr', log_clf), ('rf', rnd_clf), ('svc', svm_clf)], voting='hard')"
   ]
  },
  {
   "cell_type": "code",
   "execution_count": 18,
   "metadata": {
    "scrolled": false
   },
   "outputs": [],
   "source": [
    "# for clf in (log_clf, rnd_clf, svm_clf, voting_clf):\n",
    "#     clf.fit(x_train, y_train)\n",
    "#     y_pred = clf.predict(x_test)\n",
    "#     print(clf.__class__.__name__, accuracy_score(y_test, y_pred))"
   ]
  },
  {
   "cell_type": "code",
   "execution_count": null,
   "metadata": {},
   "outputs": [],
   "source": []
  }
 ],
 "metadata": {
  "celltoolbar": "Edit Metadata",
  "kernelspec": {
   "display_name": "Python 3",
   "language": "python",
   "name": "python3"
  },
  "language_info": {
   "codemirror_mode": {
    "name": "ipython",
    "version": 3
   },
   "file_extension": ".py",
   "mimetype": "text/x-python",
   "name": "python",
   "nbconvert_exporter": "python",
   "pygments_lexer": "ipython3",
   "version": "3.7.4"
  }
 },
 "nbformat": 4,
 "nbformat_minor": 2
}
